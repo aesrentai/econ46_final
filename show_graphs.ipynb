{
 "cells": [
  {
   "cell_type": "code",
   "execution_count": 18,
   "id": "aac11b91",
   "metadata": {},
   "outputs": [],
   "source": [
    "# SPDX-License-Identifier: (GPL-2.0+) \n",
    "\n",
    "import csv\n",
    "import networkx as nx\n",
    "import matplotlib.pyplot as plt\n",
    "import show_graphs as sg"
   ]
  },
  {
   "cell_type": "code",
   "execution_count": 19,
   "id": "543a4af0",
   "metadata": {},
   "outputs": [],
   "source": [
    "trade_data = csv.DictReader(open('data/cow/Dyadic_COW_4.0_shortened.csv', 'r'))\n",
    "trade_data = list(trade_data)\n",
    "dispute_data = csv.DictReader(open('data/mid/MIDB_5.0.csv', 'r'))\n",
    "dispute_data = list(dispute_data)"
   ]
  },
  {
   "cell_type": "code",
   "execution_count": 20,
   "id": "b7f8dd0b",
   "metadata": {},
   "outputs": [
    {
     "name": "stdout",
     "output_type": "stream",
     "text": [
      "Enter a conflict number.  Type \"exit\" without the quotes to leave\n",
      "611\n",
      "Parsing conflict number.\n",
      "Retrieving trade partners\n",
      "Parsing trade data for side A\n",
      "Parsing trade data for side B\n",
      "Calculating trade percentages for side A\n",
      "Calculating trade percentages for side B\n"
     ]
    }
   ],
   "source": [
    "conflict_num = input(\"Enter a conflict number.  Type \\\"exit\\\" without the quotes to leave\\n\")\n",
    "if conflict_num == \"exit\":\n",
    "    print(\"Goodbye\")\n",
    "    exit(0)\n",
    "try:\n",
    "    conflict_num = int(conflict_num)\n",
    "except ValueError:\n",
    "    print(\"Invalid conflict number\")\n",
    "    exit(0)\n",
    "\n",
    "print(\"Parsing conflict number.\")\n",
    "instigatorsA, instigatorsB, sideA, sideB, start_year = sg.parse_conflict_num(dispute_data, conflict_num)\n",
    "\n",
    "if int(start_year) == -1:\n",
    "    print(\"Conflict number {0} does not exist\".format(str(conflict_num)))\n",
    "    exit(0)\n",
    "\n",
    "print(\"Retrieving trade partners\")\n",
    "instigatorsA_trade_partners, instigatorsB_trade_partners = sg.get_conflict_trade_partners(\n",
    "    trade_data,\n",
    "    instigatorsA, \n",
    "    instigatorsB, \n",
    "    start_year\n",
    ")\n",
    "\n",
    "print(\"Parsing trade data for side A\")\n",
    "trade_valuesA = sg.parse_trade_data(trade_data, instigatorsA_trade_partners, start_year) if len(instigatorsA_trade_partners) > 1 else None\n",
    "\n",
    "print(\"Parsing trade data for side B\")\n",
    "trade_valuesB = sg.parse_trade_data(trade_data, instigatorsB_trade_partners, start_year) if len(instigatorsB_trade_partners) > 1 else None\n",
    "\n",
    "print(\"Calculating trade percentages for side A\")\n",
    "trade_percentagesA = sg.calculate_trade_percentages(trade_valuesA) if trade_valuesA is not None else None\n",
    "\n",
    "print(\"Calculating trade percentages for side B\")\n",
    "trade_percentagesB = sg.calculate_trade_percentages(trade_valuesB) if trade_valuesB is not None else None\n"
   ]
  },
  {
   "cell_type": "code",
   "execution_count": 21,
   "id": "73137f6f",
   "metadata": {},
   "outputs": [
    {
     "name": "stdout",
     "output_type": "stream",
     "text": [
      "Side A Summary:\n",
      "Instigators: ['USA']\n",
      "Combatants: ['THI', 'ROK', 'PHI', 'AUL', 'NEW', 'USA', 'RVN', 'CAM']\n",
      "Linear Regression: y = 0.16277055959305903x + 0.0274597478370846\n",
      "Logistic Regression: y = 1/(1+e^-([0.02745975] + [[0.34474674]]x))\n",
      "Side B Summary:\n",
      "Instigators: ['DRV']\n",
      "Combatants: ['CHN', 'USR', 'DRV']\n",
      "Linear Regression: y = 0.0x + 0.0\n",
      "Logistic Regression model not available\n"
     ]
    }
   ],
   "source": [
    "print(\"Side A Summary:\")\n",
    "sg.show_summary(trade_percentagesA, sideA, instigatorsA)\n",
    "print(\"Side B Summary:\")\n",
    "sg.show_summary(trade_percentagesB, sideB, instigatorsB)\n"
   ]
  },
  {
   "cell_type": "code",
   "execution_count": 13,
   "id": "f1ae8aa9",
   "metadata": {},
   "outputs": [
    {
     "data": {
      "image/png": "[encoded data removed]",
      "text/plain": [
       "<Figure size 432x288 with 1 Axes>"
      ]
     },
     "metadata": {},
     "output_type": "display_data"
    },
    {
     "data": {
      "image/png": "[encoded data removed]",
      "text/plain": [
       "<Figure size 432x288 with 1 Axes>"
      ]
     },
     "metadata": {},
     "output_type": "display_data"
    },
    {
     "data": {
      "image/png": "[encoded data removed]",
      "text/plain": [
       "<Figure size 432x288 with 1 Axes>"
      ]
     },
     "metadata": {},
     "output_type": "display_data"
    },
    {
     "data": {
      "image/png": "[encoded data removed]",
      "text/plain": [
       "<Figure size 432x288 with 1 Axes>"
      ]
     },
     "metadata": {},
     "output_type": "display_data"
    }
   ],
   "source": [
    "if trade_valuesA != None: sg.draw_trade_war_graphs(instigatorsA, sideA, trade_valuesA, 'A')\n",
    "if trade_valuesB != None: sg.draw_trade_war_graphs(instigatorsB, sideB, trade_valuesB, 'B')\n"
   ]
  },
  {
   "cell_type": "code",
   "execution_count": null,
   "id": "fb7a7011",
   "metadata": {},
   "outputs": [],
   "source": []
  }
 ],
 "metadata": {
  "kernelspec": {
   "display_name": "Python 3",
   "language": "python",
   "name": "python3"
  },
  "language_info": {
   "codemirror_mode": {
    "name": "ipython",
    "version": 3
   },
   "file_extension": ".py",
   "mimetype": "text/x-python",
   "name": "python",
   "nbconvert_exporter": "python",
   "pygments_lexer": "ipython3",
   "version": "3.7.3"
  }
 },
 "nbformat": 4,
 "nbformat_minor": 5
}
